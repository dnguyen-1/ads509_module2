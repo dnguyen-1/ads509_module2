{
 "cells": [
  {
   "cell_type": "markdown",
   "id": "7f79baf9",
   "metadata": {},
   "source": [
    "# ADS 509 Assignment 2.1: Tokenization, Normalization, Descriptive Statistics \n",
    "\n",
    "This notebook holds Assignment 2.1 for Module 2 in ADS 509, Applied Text Mining. Work through this notebook, writing code and answering questions where required. \n",
    "\n",
    "In the previous assignment you pulled lyrics data on two artists. In this assignment we explore this data set and a pull from the now-defunct Twitter API for the artists Cher and Robyn.  If, for some reason, you did not complete that previous assignment, data to use for this assignment can be found in the assignment materials section of Canvas. \n",
    "\n",
    "This assignment asks you to write a short function to calculate some descriptive statistics on a piece of text. Then you are asked to find some interesting and unique statistics on your corpora. \n"
   ]
  },
  {
   "cell_type": "markdown",
   "id": "aae8e2e1",
   "metadata": {},
   "source": [
    "## General Assignment Instructions\n",
    "\n",
    "These instructions are included in every assignment, to remind you of the coding standards for the class. Feel free to delete this cell after reading it. \n",
    "\n",
    "One sign of mature code is conforming to a style guide. We recommend the [Google Python Style Guide](https://google.github.io/styleguide/pyguide.html). If you use a different style guide, please include a cell with a link. \n",
    "\n",
    "Your code should be relatively easy-to-read, sensibly commented, and clean. Writing code is a messy process, so please be sure to edit your final submission. Remove any cells that are not needed or parts of cells that contain unnecessary code. Remove inessential `import` statements and make sure that all such statements are moved into the designated cell. \n",
    "\n",
    "Make use of non-code cells for written commentary. These cells should be grammatical and clearly written. In some of these cells you will have questions to answer. The questions will be marked by a \"Q:\" and will have a corresponding \"A:\" spot for you. *Make sure to answer every question marked with a `Q:` for full credit.* \n"
   ]
  },
  {
   "cell_type": "code",
   "execution_count": 1,
   "id": "e2d096b7",
   "metadata": {},
   "outputs": [],
   "source": [
    "import os\n",
    "import re\n",
    "import emoji\n",
    "import pandas as pd\n",
    "import numpy as np\n",
    "import nltk\n",
    "\n",
    "from collections import Counter, defaultdict\n",
    "from nltk.corpus import stopwords\n",
    "from string import punctuation\n",
    "\n",
    "sw = stopwords.words(\"english\")"
   ]
  },
  {
   "cell_type": "code",
   "execution_count": 2,
   "id": "6b555ab2",
   "metadata": {},
   "outputs": [],
   "source": [
    "# Add any additional import statements you need here\n",
    "import pprint as pp"
   ]
  },
  {
   "cell_type": "code",
   "execution_count": 3,
   "id": "923b5a86",
   "metadata": {},
   "outputs": [],
   "source": [
    "# change `data_location` to the location of the folder on your machine.\n",
    "data_location = \"/Users/duynguyen/Documents/Documents - DUY’s Mac mini/GitHub/ads509_module2\"\n",
    "\n",
    "# These subfolders should still work if you correctly stored the \n",
    "# data from the Module 1 assignment\n",
    "twitter_folder = \"twitter/\"\n",
    "lyrics_folder = \"lyrics/\""
   ]
  },
  {
   "cell_type": "code",
   "execution_count": 4,
   "id": "06522af9",
   "metadata": {},
   "outputs": [],
   "source": [
    "def descriptive_stats(tokens, num_tokens = 5, verbose=True) :\n",
    "    \"\"\"\n",
    "        Given a list of tokens, print number of tokens, number of unique tokens, \n",
    "        number of characters, lexical diversity (https://en.wikipedia.org/wiki/Lexical_diversity), \n",
    "        and num_tokens most common tokens. Return a list with the number of tokens, number\n",
    "        of unique tokens, lexical diversity, and number of characters. \n",
    "    \n",
    "    \"\"\"\n",
    "\n",
    "    # Fill in the correct values here. \n",
    "    num_tokens = len(tokens)\n",
    "    num_unique_tokens = len(set(tokens))\n",
    "    lexical_diversity = num_unique_tokens / num_tokens #ratio of different unique word stems (types) to the total number of words\n",
    "    num_characters = sum(len(token) for token in tokens)\n",
    "    \n",
    "    if verbose :        \n",
    "        print(f\"There are {num_tokens} tokens in the data.\")\n",
    "        print(f\"There are {num_unique_tokens} unique tokens in the data.\")\n",
    "        print(f\"There are {num_characters} characters in the data.\")\n",
    "        print(f\"The lexical diversity is {lexical_diversity:.3f} in the data.\")\n",
    "    \n",
    "        # print the five most common tokens\n",
    "        counter = Counter(tokens)\n",
    "        most_common = counter.most_common(5)\n",
    "        pp.pprint(most_common)\n",
    "        \n",
    "    return([num_tokens, num_unique_tokens,\n",
    "            lexical_diversity,\n",
    "            num_characters])\n",
    "    "
   ]
  },
  {
   "cell_type": "code",
   "execution_count": 5,
   "id": "59dcf058",
   "metadata": {},
   "outputs": [
    {
     "name": "stdout",
     "output_type": "stream",
     "text": [
      "There are 13 tokens in the data.\n",
      "There are 9 unique tokens in the data.\n",
      "There are 55 characters in the data.\n",
      "The lexical diversity is 0.692 in the data.\n",
      "[('text', 3), ('here', 2), ('example', 2), ('is', 1), ('some', 1)]\n"
     ]
    }
   ],
   "source": [
    "text = \"\"\"here is some example text with other example text here in this text\"\"\".split()\n",
    "assert(descriptive_stats(text, verbose=True)[0] == 13)\n",
    "assert(descriptive_stats(text, verbose=False)[1] == 9)\n",
    "assert(abs(descriptive_stats(text, verbose=False)[2] - 0.69) < 0.02)\n",
    "assert(descriptive_stats(text, verbose=False)[3] == 55)\n"
   ]
  },
  {
   "cell_type": "markdown",
   "id": "d2e7e1a2",
   "metadata": {},
   "source": [
    "Q: Why is it beneficial to use assertion statements in your code? \n",
    "\n",
    "A: Assertion statements are beneficial as a sanity check in the code, helping during the development phase for documenting, debugging, and testing code to test for a given condition.\n",
    "\n",
    "Reference: Kumar, S. (2022 June 24). Pythong Tips: Assertions in Python. Medium. https://medium.com/faun/python-tips-assertions-in-python-12ec7748f8c4. "
   ]
  },
  {
   "cell_type": "markdown",
   "id": "9d3bf93e",
   "metadata": {},
   "source": [
    "## Data Input\n",
    "\n",
    "Now read in each of the corpora. For the lyrics data, it may be convenient to store the entire contents of the file to make it easier to inspect the titles individually, as you'll do in the last part of the assignment. In the solution, I stored the lyrics data in a dictionary with two dimensions of keys: artist and song. The value was the file contents. A data frame would work equally well. \n",
    "\n",
    "For the Twitter data, we only need the description field for this assignment. Feel free all the descriptions read it into a data structure. In the solution, I stored the descriptions as a dictionary of lists, with the key being the artist. \n",
    "\n",
    "\n"
   ]
  },
  {
   "cell_type": "code",
   "execution_count": 6,
   "id": "37d70801",
   "metadata": {},
   "outputs": [],
   "source": [
    "# Read in the lyrics data, used chatgpt on 5/19/2025 to clean input of data and help with error messages\n",
    "lyrics_data = defaultdict(dict)\n",
    "\n",
    "for artist in os.listdir(lyrics_folder):\n",
    "    artist_dir = os.path.join(lyrics_folder, artist)\n",
    "    if os.path.isdir(artist_dir):\n",
    "        for song_file in os.listdir(artist_dir):\n",
    "            if song_file.endswith(\".txt\"):\n",
    "                song_title = song_file.replace(\".txt\", \"\")\n",
    "                file_path = os.path.join(artist_dir, song_file)\n",
    "                with open(file_path, \"r\", encoding=\"utf-8\") as f:\n",
    "                    lyrics = f.read()\n",
    "                lyrics_data[artist][song_title] = lyrics"
   ]
  },
  {
   "cell_type": "code",
   "execution_count": 7,
   "id": "debcac5a",
   "metadata": {},
   "outputs": [],
   "source": [
    "# Read in the twitter data\n",
    "twitter_descriptions = defaultdict(list)\n",
    "\n",
    "for file in os.listdir(twitter_folder):\n",
    "    if file.endswith(\".txt\"):\n",
    "        artist = file.replace('.txt', '').replace('_followers_data', '').strip().lower()\n",
    "        file_path = os.path.join(twitter_folder, file)\n",
    "        with open(file_path, 'r', encoding='utf-8') as f:\n",
    "            lines = [line.strip() for line in f if line.strip()]\n",
    "            twitter_descriptions[artist].extend(lines)"
   ]
  },
  {
   "cell_type": "markdown",
   "id": "6a5f3b12",
   "metadata": {},
   "source": [
    "## Data Cleaning\n",
    "\n",
    "Now clean and tokenize your data. Remove punctuation chacters (available in the `punctuation` object in the `string` library), split on whitespace, fold to lowercase, and remove stopwords. Store your cleaned data, which must be accessible as an interable for `descriptive_stats`, in new objects or in new columns in your data frame. \n",
    "\n"
   ]
  },
  {
   "cell_type": "code",
   "execution_count": 8,
   "id": "71c73d86",
   "metadata": {},
   "outputs": [],
   "source": [
    "from string import punctuation\n",
    "import string\n",
    "punctuation = str.maketrans('','', string.punctuation) # speeds up comparison, update set to string"
   ]
  },
  {
   "cell_type": "code",
   "execution_count": 9,
   "id": "b327033a",
   "metadata": {},
   "outputs": [],
   "source": [
    "# create your clean lyrics data here\n",
    "cleaned_lyrics_data = defaultdict(dict)\n",
    "\n",
    "for artist, songs in lyrics_data.items():\n",
    "    for song, text in songs.items():\n",
    "        text = text.lower() # lower case\n",
    "        text = text.translate(punctuation) # punctuations\n",
    "        tokens = text.split() #split on whitespace\n",
    "        tokens = [word for word in tokens if word not in sw] #use stop words from NLTK\n",
    "        \n",
    "        cleaned_lyrics_data[artist][song] = tokens\n"
   ]
  },
  {
   "cell_type": "code",
   "execution_count": 10,
   "id": "e0f22e10",
   "metadata": {},
   "outputs": [],
   "source": [
    "# create your clean twitter data here\n",
    "cleaned_twitter_descriptions = defaultdict(list)\n",
    "\n",
    "for artist, descriptions in twitter_descriptions.items():\n",
    "    for desc in descriptions:\n",
    "        desc = desc.lower()\n",
    "        desc = desc.translate(punctuation)\n",
    "        tokens = desc.split()  #split on whitespace\n",
    "        tokens = [word for word in tokens if word not in sw] #use stop words from NLTK\n",
    "        \n",
    "        cleaned_twitter_descriptions[artist].append(tokens)"
   ]
  },
  {
   "cell_type": "markdown",
   "id": "f2dd0179",
   "metadata": {},
   "source": [
    "## Basic Descriptive Statistics\n",
    "\n",
    "Call your `descriptive_stats` function on both your lyrics data and your twitter data and for both artists (four total calls). "
   ]
  },
  {
   "cell_type": "code",
   "execution_count": 11,
   "id": "219986a5-2e73-4f81-ade5-7c4cc43204df",
   "metadata": {},
   "outputs": [
    {
     "name": "stdout",
     "output_type": "stream",
     "text": [
      "There are 5986 tokens in the data.\n",
      "There are 991 unique tokens in the data.\n",
      "There are 29219 characters in the data.\n",
      "The lexical diversity is 0.166 in the data.\n",
      "[('im', 154), ('know', 137), ('dont', 121), ('oh', 90), ('love', 85)]\n"
     ]
    },
    {
     "data": {
      "text/plain": [
       "[5986, 991, 0.165552956899432, 29219]"
      ]
     },
     "execution_count": 11,
     "metadata": {},
     "output_type": "execute_result"
    }
   ],
   "source": [
    "clarkson_lyrics_tokens = []\n",
    "for song in cleaned_lyrics_data['clarkson'].values():\n",
    "    clarkson_lyrics_tokens.extend(song)\n",
    "\n",
    "descriptive_stats(clarkson_lyrics_tokens, verbose=True)"
   ]
  },
  {
   "cell_type": "code",
   "execution_count": 12,
   "id": "8019073c-c7a2-4002-bbaa-e4033095c509",
   "metadata": {},
   "outputs": [
    {
     "name": "stdout",
     "output_type": "stream",
     "text": [
      "There are 5632 tokens in the data.\n",
      "There are 1110 unique tokens in the data.\n",
      "There are 27112 characters in the data.\n",
      "The lexical diversity is 0.197 in the data.\n",
      "[('love', 159), ('im', 97), ('one', 79), ('like', 78), ('yeah', 76)]\n"
     ]
    },
    {
     "data": {
      "text/plain": [
       "[5632, 1110, 0.19708806818181818, 27112]"
      ]
     },
     "execution_count": 12,
     "metadata": {},
     "output_type": "execute_result"
    }
   ],
   "source": [
    "rascal_lyrics_tokens = []\n",
    "for song in cleaned_lyrics_data['rascal'].values():\n",
    "    rascal_lyrics_tokens.extend(song)\n",
    "\n",
    "descriptive_stats(rascal_lyrics_tokens, verbose=True)"
   ]
  },
  {
   "cell_type": "code",
   "execution_count": 13,
   "id": "1406520b-717e-47ef-8daf-74b940dddc77",
   "metadata": {},
   "outputs": [
    {
     "name": "stdout",
     "output_type": "stream",
     "text": [
      "There are 42404149 tokens in the data.\n",
      "There are 10667110 unique tokens in the data.\n",
      "There are 266424726 characters in the data.\n",
      "The lexical diversity is 0.252 in the data.\n",
      "[('0', 334292), ('1', 284601), ('2', 237886), ('love', 221728), ('3', 196690)]\n"
     ]
    },
    {
     "data": {
      "text/plain": [
       "[42404149, 10667110, 0.2515581671029408, 266424726]"
      ]
     },
     "execution_count": 13,
     "metadata": {},
     "output_type": "execute_result"
    }
   ],
   "source": [
    "cher_twitter_tokens = []\n",
    "for desc in cleaned_twitter_descriptions.get('cher', []):\n",
    "    cher_twitter_tokens.extend(desc)\n",
    "    \n",
    "descriptive_stats(cher_twitter_tokens, verbose=True)"
   ]
  },
  {
   "cell_type": "code",
   "execution_count": 14,
   "id": "d0f468b3-e24b-4ca1-9fcd-35262e3ab544",
   "metadata": {},
   "outputs": [
    {
     "name": "stdout",
     "output_type": "stream",
     "text": [
      "There are 3888265 tokens in the data.\n",
      "There are 1136751 unique tokens in the data.\n",
      "There are 24106279 characters in the data.\n",
      "The lexical diversity is 0.292 in the data.\n",
      "[('0', 31800), ('1', 24115), ('2', 17675), ('music', 16049), ('3', 14372)]\n"
     ]
    },
    {
     "data": {
      "text/plain": [
       "[3888265, 1136751, 0.29235430198301815, 24106279]"
      ]
     },
     "execution_count": 14,
     "metadata": {},
     "output_type": "execute_result"
    }
   ],
   "source": [
    "robynkonichiwa_twitter_tokens = []\n",
    "for desc in cleaned_twitter_descriptions.get('robynkonichiwa', []):\n",
    "    robynkonichiwa_twitter_tokens.extend(desc)\n",
    "    \n",
    "descriptive_stats(robynkonichiwa_twitter_tokens, verbose=True)"
   ]
  },
  {
   "cell_type": "markdown",
   "id": "46294409",
   "metadata": {},
   "source": [
    "Q: How do you think the \"top 5 words\" would be different if we left stopwords in the data? \n",
    "\n",
    "A: Leaving stop words in the data would have drastically changed the top five top words, possibilty including words like \"such\", \"and\", \"the\" etc.  May have been good to find a way to filter numbers from the twitter text.\n",
    "\n",
    "---\n",
    "\n",
    "Q: What were your prior beliefs about the lexical diversity between the artists? Does the difference (or lack thereof) in lexical diversity between the artists conform to your prior beliefs? \n",
    "\n",
    "A: After learning about lexical diversity the thought is that they are fairly similar amougst artists, case being most artists stick to a genre of music and while the melodies are difference most of the themes generally remain the same.\n",
    "\n",
    "\n"
   ]
  },
  {
   "cell_type": "markdown",
   "id": "4d4e1ac1",
   "metadata": {},
   "source": [
    "\n",
    "## Specialty Statistics\n",
    "\n",
    "The descriptive statistics we have calculated are quite generic. You will now calculate a handful of statistics tailored to these data.\n",
    "\n",
    "1. Ten most common emojis by artist in the twitter descriptions.\n",
    "1. Ten most common hashtags by artist in the twitter descriptions.\n",
    "1. Five most common words in song titles by artist. \n",
    "1. For each artist, a histogram of song lengths (in terms of number of tokens) \n",
    "\n",
    "We can use the `emoji` library to help us identify emojis and you have been given a function to help you.\n"
   ]
  },
  {
   "cell_type": "code",
   "execution_count": 15,
   "id": "753a5a3e",
   "metadata": {},
   "outputs": [],
   "source": [
    "assert(emoji.is_emoji(\"❤️\"))\n",
    "assert(not emoji.is_emoji(\":-)\")) #sends error for text emojis"
   ]
  },
  {
   "cell_type": "markdown",
   "id": "986fc4c0",
   "metadata": {},
   "source": [
    "### Emojis 😁\n",
    "\n",
    "What are the ten most common emojis by artist in the twitter descriptions? \n"
   ]
  },
  {
   "cell_type": "code",
   "execution_count": 16,
   "id": "269cd433",
   "metadata": {},
   "outputs": [
    {
     "name": "stdout",
     "output_type": "stream",
     "text": [
      "Top hashtags for Cher:\n",
      "[('❤', 94506), ('🌈', 66291), ('♥', 48059), ('🏳', 47174), ('✨', 45846), ('🌊', 31234), ('💙', 31050), ('🏻', 25195), ('✌', 21963), ('💜', 21571)]\n",
      "Top hashtags for Robyn:\n",
      "[('🌈', 6086), ('❤', 5635), ('🏳', 4641), ('♥', 4249), ('✨', 3217), ('🏻', 1751), ('✌', 1495), ('♀', 1347), ('🏼', 1340), ('💙', 1200)]\n"
     ]
    }
   ],
   "source": [
    "def extract_emojis(text):\n",
    "    return [char for char in text if char in emoji.EMOJI_DATA] #dictionary of emojis\n",
    "\n",
    "emoji_stats = {}\n",
    "\n",
    "for artist, descriptions in twitter_descriptions.items():\n",
    "    emoji_list = []\n",
    "    for desc in descriptions:\n",
    "        emoji_list.extend(extract_emojis(desc))\n",
    "    emoji_stats[artist] = Counter(emoji_list).most_common(10)\n",
    "\n",
    "print(\"Top hashtags for Cher:\")\n",
    "print(emoji_stats.get('cher', []))\n",
    "\n",
    "print(\"Top hashtags for Robyn:\")\n",
    "print(emoji_stats.get('robynkonichiwa', []))"
   ]
  },
  {
   "cell_type": "markdown",
   "id": "bab9b770",
   "metadata": {},
   "source": [
    "### Hashtags\n",
    "\n",
    "What are the ten most common hashtags by artist in the twitter descriptions? \n"
   ]
  },
  {
   "cell_type": "code",
   "execution_count": 17,
   "id": "07c396f1",
   "metadata": {},
   "outputs": [
    {
     "name": "stdout",
     "output_type": "stream",
     "text": [
      "Top hashtags for Cher:\n",
      "[('#resist', 9729), ('#blm', 9271), ('#blacklivesmatter', 7770), ('#fbr', 2991), ('#theresistance', 2929), ('#1', 2580), ('#resistance', 2438), ('#', 2205), ('#voteblue', 1939), ('#lgbtq', 1461)]\n",
      "\n",
      "Top hashtags for Robyn:\n",
      "[('#blacklivesmatter', 601), ('#blm', 365), ('#music', 262), ('#1', 213), ('#', 175), ('#teamfollowback', 118), ('#edm', 104), ('#resist', 77), ('#freebritney', 70), ('#blacktranslivesmatter', 58)]\n"
     ]
    }
   ],
   "source": [
    "def extract_hashtags(text):\n",
    "    return [word.lower() for word in text.split() if word.startswith('#')]\n",
    "\n",
    "hashtag_stats = {}\n",
    "\n",
    "for artist, descriptions in twitter_descriptions.items():\n",
    "    hashtag_list = []\n",
    "    for desc in descriptions:\n",
    "        hashtag_list.extend(extract_hashtags(desc))\n",
    "    hashtag_stats[artist] = Counter(hashtag_list).most_common(10)\n",
    "\n",
    "print(\"Top hashtags for Cher:\")\n",
    "print(hashtag_stats.get('cher', []))\n",
    "\n",
    "print(\"\\nTop hashtags for Robyn:\")\n",
    "print(hashtag_stats.get('robynkonichiwa', []))"
   ]
  },
  {
   "cell_type": "markdown",
   "id": "d10f21d5",
   "metadata": {},
   "source": [
    "### Song Titles\n",
    "\n",
    "What are the five most common words in song titles by artist? The song titles should be on the first line of the lyrics pages, so if you have kept the raw file contents around, you will not need to re-read the data.\n"
   ]
  },
  {
   "cell_type": "code",
   "execution_count": 18,
   "id": "bb69b36b",
   "metadata": {},
   "outputs": [],
   "source": [
    "#could not figure out how to get the dataset to code the top songs titles"
   ]
  },
  {
   "cell_type": "markdown",
   "id": "5dd4fd71",
   "metadata": {},
   "source": [
    "### Song Lengths\n",
    "\n",
    "For each artist, a histogram of song lengths (in terms of number of tokens). If you put the song lengths in a data frame with an artist column, matplotlib will make the plotting quite easy. An example is given to help you out. \n"
   ]
  },
  {
   "cell_type": "code",
   "execution_count": 19,
   "id": "805a1e52",
   "metadata": {},
   "outputs": [
    {
     "data": {
      "text/plain": [
       "artist\n",
       "Artist 1    Axes(0.125,0.11;0.775x0.77)\n",
       "Artist 2    Axes(0.125,0.11;0.775x0.77)\n",
       "Name: length, dtype: object"
      ]
     },
     "execution_count": 19,
     "metadata": {},
     "output_type": "execute_result"
    },
    {
     "data": {
      "image/png": "[encoded data removed]",
      "text/plain": [
       "<Figure size 640x480 with 1 Axes>"
      ]
     },
     "metadata": {},
     "output_type": "display_data"
    }
   ],
   "source": [
    "num_replicates = 1000\n",
    "\n",
    "df = pd.DataFrame({\n",
    "    \"artist\" : ['Artist 1'] * num_replicates + ['Artist 2']*num_replicates,\n",
    "    \"length\" : np.concatenate((np.random.poisson(125,num_replicates),np.random.poisson(150,num_replicates)))\n",
    "})\n",
    "\n",
    "df.groupby('artist')['length'].plot(kind=\"hist\",density=True,alpha=0.5,legend=True)"
   ]
  },
  {
   "cell_type": "markdown",
   "id": "8fde9ebb",
   "metadata": {},
   "source": [
    "Since the lyrics may be stored with carriage returns or tabs, it may be useful to have a function that can collapse whitespace, using regular expressions, and be used for splitting. \n",
    "\n",
    "Q: What does the regular expression `'\\s+'` match on? \n",
    "\n",
    "A: \n"
   ]
  },
  {
   "cell_type": "code",
   "execution_count": 20,
   "id": "f0e34516",
   "metadata": {},
   "outputs": [],
   "source": [
    "collapse_whitespace = re.compile(r'\\s+')\n",
    "\n",
    "def tokenize_lyrics(lyric) : \n",
    "    \"\"\"strip and split on whitespace\"\"\"\n",
    "    return([item.lower() for item in collapse_whitespace.split(lyric)])"
   ]
  },
  {
   "cell_type": "code",
   "execution_count": 21,
   "id": "2294c440",
   "metadata": {},
   "outputs": [],
   "source": [
    "# Your lyric length comparison chart here"
   ]
  },
  {
   "cell_type": "code",
   "execution_count": null,
   "id": "bf59073b-494f-4abb-aeb0-72920c2e2107",
   "metadata": {},
   "outputs": [],
   "source": []
  }
 ],
 "metadata": {
  "kernelspec": {
   "display_name": "Python 3 (ipykernel)",
   "language": "python",
   "name": "python3"
  },
  "language_info": {
   "codemirror_mode": {
    "name": "ipython",
    "version": 3
   },
   "file_extension": ".py",
   "mimetype": "text/x-python",
   "name": "python",
   "nbconvert_exporter": "python",
   "pygments_lexer": "ipython3",
   "version": "3.11.7"
  }
 },
 "nbformat": 4,
 "nbformat_minor": 5
}
